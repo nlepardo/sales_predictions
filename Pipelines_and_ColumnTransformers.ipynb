{
  "nbformat": 4,
  "nbformat_minor": 0,
  "metadata": {
    "colab": {
      "name": "Pipelines and ColumnTransformers.ipynb",
      "provenance": [],
      "authorship_tag": "ABX9TyMMhdScqi0T06K4sOEI/97H",
      "include_colab_link": true
    },
    "kernelspec": {
      "name": "python3",
      "display_name": "Python 3"
    },
    "language_info": {
      "name": "python"
    }
  },
  "cells": [
    {
      "cell_type": "markdown",
      "metadata": {
        "id": "view-in-github",
        "colab_type": "text"
      },
      "source": [
        "<a href=\"https://colab.research.google.com/github/nlepardo/sales_predictions/blob/project1-part5/Pipelines_and_ColumnTransformers.ipynb\" target=\"_parent\"><img src=\"https://colab.research.google.com/assets/colab-badge.svg\" alt=\"Open In Colab\"/></a>"
      ]
    },
    {
      "cell_type": "code",
      "execution_count": 1,
      "metadata": {
        "id": "1Eicv5L8BXmP"
      },
      "outputs": [],
      "source": [
        "# imports\n",
        "import pandas as pd\n",
        "import numpy as np\n",
        "from sklearn.preprocessing import StandardScaler, OneHotEncoder\n",
        "from sklearn.impute import SimpleImputer\n",
        "from sklearn.compose import make_column_transformer, make_column_selector\n",
        "from sklearn.pipeline import make_pipeline\n",
        "from sklearn.model_selection import train_test_split\n",
        "from sklearn import set_config\n",
        "set_config(display='diagram')"
      ]
    },
    {
      "cell_type": "code",
      "source": [
        "# Import Data\n",
        "\n",
        "filename='https://docs.google.com/spreadsheets/d/e/2PACX-1vSzb_CfjmApDMSXRn-Ga8X5rgoRVm7U_UNYotqQ0iW2JVx1qoKFr41XOA-FNKPqds83B0oUM6zKtLqK/pub?output=csv'\n",
        "df = pd.read_csv(filename)\n",
        "df.head()"
      ],
      "metadata": {
        "colab": {
          "base_uri": "https://localhost:8080/",
          "height": 280
        },
        "id": "4l1azxbKHR3a",
        "outputId": "f4f9e28f-a4d7-4b56-a00a-4d22921da729"
      },
      "execution_count": 2,
      "outputs": [
        {
          "output_type": "execute_result",
          "data": {
            "text/plain": [
              "  State       Lat       Lng      Area  Children  Age    Income   Marital  \\\n",
              "0    AL  34.34960 -86.72508  Suburban       1.0   53  86575.93  Divorced   \n",
              "1    FL  30.84513 -85.22907     Urban       3.0   51  46805.99   Married   \n",
              "2    SD  43.54321 -96.63772  Suburban       3.0   53  14370.14   Widowed   \n",
              "3    MN  43.89744 -93.51479  Suburban       0.0   78  39741.49   Married   \n",
              "4    VA  37.59894 -76.88958     Rural       1.0   22   1209.56   Widowed   \n",
              "\n",
              "   Gender  ReAdmis  ...  Hyperlipidemia  BackPain  Anxiety  Allergic_rhinitis  \\\n",
              "0    Male        0  ...             0.0       1.0      1.0                1.0   \n",
              "1  Female        0  ...             0.0       0.0      0.0                0.0   \n",
              "2  Female        0  ...             0.0       0.0      0.0                0.0   \n",
              "3    Male        0  ...             0.0       0.0      0.0                0.0   \n",
              "4  Female        0  ...             1.0       0.0      0.0                1.0   \n",
              "\n",
              "   Reflux_esophagitis Asthma     Services  Initial_days  TotalCharge  \\\n",
              "0                   0      1   Blood Work     10.585770  3726.702860   \n",
              "1                   1      0  Intravenous     15.129562  4193.190458   \n",
              "2                   0      0   Blood Work      4.772177  2434.234222   \n",
              "3                   1      1   Blood Work      1.714879  2127.830423   \n",
              "4                   0      0      CT Scan      1.254807  2113.073274   \n",
              "\n",
              "   Additional_charges  \n",
              "0        17939.403420  \n",
              "1        17612.998120  \n",
              "2        17505.192460  \n",
              "3        12993.437350  \n",
              "4         3716.525786  \n",
              "\n",
              "[5 rows x 32 columns]"
            ],
            "text/html": [
              "\n",
              "  <div id=\"df-8164c59e-7dda-4d5d-af9a-5cc40c7f3c83\">\n",
              "    <div class=\"colab-df-container\">\n",
              "      <div>\n",
              "<style scoped>\n",
              "    .dataframe tbody tr th:only-of-type {\n",
              "        vertical-align: middle;\n",
              "    }\n",
              "\n",
              "    .dataframe tbody tr th {\n",
              "        vertical-align: top;\n",
              "    }\n",
              "\n",
              "    .dataframe thead th {\n",
              "        text-align: right;\n",
              "    }\n",
              "</style>\n",
              "<table border=\"1\" class=\"dataframe\">\n",
              "  <thead>\n",
              "    <tr style=\"text-align: right;\">\n",
              "      <th></th>\n",
              "      <th>State</th>\n",
              "      <th>Lat</th>\n",
              "      <th>Lng</th>\n",
              "      <th>Area</th>\n",
              "      <th>Children</th>\n",
              "      <th>Age</th>\n",
              "      <th>Income</th>\n",
              "      <th>Marital</th>\n",
              "      <th>Gender</th>\n",
              "      <th>ReAdmis</th>\n",
              "      <th>...</th>\n",
              "      <th>Hyperlipidemia</th>\n",
              "      <th>BackPain</th>\n",
              "      <th>Anxiety</th>\n",
              "      <th>Allergic_rhinitis</th>\n",
              "      <th>Reflux_esophagitis</th>\n",
              "      <th>Asthma</th>\n",
              "      <th>Services</th>\n",
              "      <th>Initial_days</th>\n",
              "      <th>TotalCharge</th>\n",
              "      <th>Additional_charges</th>\n",
              "    </tr>\n",
              "  </thead>\n",
              "  <tbody>\n",
              "    <tr>\n",
              "      <th>0</th>\n",
              "      <td>AL</td>\n",
              "      <td>34.34960</td>\n",
              "      <td>-86.72508</td>\n",
              "      <td>Suburban</td>\n",
              "      <td>1.0</td>\n",
              "      <td>53</td>\n",
              "      <td>86575.93</td>\n",
              "      <td>Divorced</td>\n",
              "      <td>Male</td>\n",
              "      <td>0</td>\n",
              "      <td>...</td>\n",
              "      <td>0.0</td>\n",
              "      <td>1.0</td>\n",
              "      <td>1.0</td>\n",
              "      <td>1.0</td>\n",
              "      <td>0</td>\n",
              "      <td>1</td>\n",
              "      <td>Blood Work</td>\n",
              "      <td>10.585770</td>\n",
              "      <td>3726.702860</td>\n",
              "      <td>17939.403420</td>\n",
              "    </tr>\n",
              "    <tr>\n",
              "      <th>1</th>\n",
              "      <td>FL</td>\n",
              "      <td>30.84513</td>\n",
              "      <td>-85.22907</td>\n",
              "      <td>Urban</td>\n",
              "      <td>3.0</td>\n",
              "      <td>51</td>\n",
              "      <td>46805.99</td>\n",
              "      <td>Married</td>\n",
              "      <td>Female</td>\n",
              "      <td>0</td>\n",
              "      <td>...</td>\n",
              "      <td>0.0</td>\n",
              "      <td>0.0</td>\n",
              "      <td>0.0</td>\n",
              "      <td>0.0</td>\n",
              "      <td>1</td>\n",
              "      <td>0</td>\n",
              "      <td>Intravenous</td>\n",
              "      <td>15.129562</td>\n",
              "      <td>4193.190458</td>\n",
              "      <td>17612.998120</td>\n",
              "    </tr>\n",
              "    <tr>\n",
              "      <th>2</th>\n",
              "      <td>SD</td>\n",
              "      <td>43.54321</td>\n",
              "      <td>-96.63772</td>\n",
              "      <td>Suburban</td>\n",
              "      <td>3.0</td>\n",
              "      <td>53</td>\n",
              "      <td>14370.14</td>\n",
              "      <td>Widowed</td>\n",
              "      <td>Female</td>\n",
              "      <td>0</td>\n",
              "      <td>...</td>\n",
              "      <td>0.0</td>\n",
              "      <td>0.0</td>\n",
              "      <td>0.0</td>\n",
              "      <td>0.0</td>\n",
              "      <td>0</td>\n",
              "      <td>0</td>\n",
              "      <td>Blood Work</td>\n",
              "      <td>4.772177</td>\n",
              "      <td>2434.234222</td>\n",
              "      <td>17505.192460</td>\n",
              "    </tr>\n",
              "    <tr>\n",
              "      <th>3</th>\n",
              "      <td>MN</td>\n",
              "      <td>43.89744</td>\n",
              "      <td>-93.51479</td>\n",
              "      <td>Suburban</td>\n",
              "      <td>0.0</td>\n",
              "      <td>78</td>\n",
              "      <td>39741.49</td>\n",
              "      <td>Married</td>\n",
              "      <td>Male</td>\n",
              "      <td>0</td>\n",
              "      <td>...</td>\n",
              "      <td>0.0</td>\n",
              "      <td>0.0</td>\n",
              "      <td>0.0</td>\n",
              "      <td>0.0</td>\n",
              "      <td>1</td>\n",
              "      <td>1</td>\n",
              "      <td>Blood Work</td>\n",
              "      <td>1.714879</td>\n",
              "      <td>2127.830423</td>\n",
              "      <td>12993.437350</td>\n",
              "    </tr>\n",
              "    <tr>\n",
              "      <th>4</th>\n",
              "      <td>VA</td>\n",
              "      <td>37.59894</td>\n",
              "      <td>-76.88958</td>\n",
              "      <td>Rural</td>\n",
              "      <td>1.0</td>\n",
              "      <td>22</td>\n",
              "      <td>1209.56</td>\n",
              "      <td>Widowed</td>\n",
              "      <td>Female</td>\n",
              "      <td>0</td>\n",
              "      <td>...</td>\n",
              "      <td>1.0</td>\n",
              "      <td>0.0</td>\n",
              "      <td>0.0</td>\n",
              "      <td>1.0</td>\n",
              "      <td>0</td>\n",
              "      <td>0</td>\n",
              "      <td>CT Scan</td>\n",
              "      <td>1.254807</td>\n",
              "      <td>2113.073274</td>\n",
              "      <td>3716.525786</td>\n",
              "    </tr>\n",
              "  </tbody>\n",
              "</table>\n",
              "<p>5 rows × 32 columns</p>\n",
              "</div>\n",
              "      <button class=\"colab-df-convert\" onclick=\"convertToInteractive('df-8164c59e-7dda-4d5d-af9a-5cc40c7f3c83')\"\n",
              "              title=\"Convert this dataframe to an interactive table.\"\n",
              "              style=\"display:none;\">\n",
              "        \n",
              "  <svg xmlns=\"http://www.w3.org/2000/svg\" height=\"24px\"viewBox=\"0 0 24 24\"\n",
              "       width=\"24px\">\n",
              "    <path d=\"M0 0h24v24H0V0z\" fill=\"none\"/>\n",
              "    <path d=\"M18.56 5.44l.94 2.06.94-2.06 2.06-.94-2.06-.94-.94-2.06-.94 2.06-2.06.94zm-11 1L8.5 8.5l.94-2.06 2.06-.94-2.06-.94L8.5 2.5l-.94 2.06-2.06.94zm10 10l.94 2.06.94-2.06 2.06-.94-2.06-.94-.94-2.06-.94 2.06-2.06.94z\"/><path d=\"M17.41 7.96l-1.37-1.37c-.4-.4-.92-.59-1.43-.59-.52 0-1.04.2-1.43.59L10.3 9.45l-7.72 7.72c-.78.78-.78 2.05 0 2.83L4 21.41c.39.39.9.59 1.41.59.51 0 1.02-.2 1.41-.59l7.78-7.78 2.81-2.81c.8-.78.8-2.07 0-2.86zM5.41 20L4 18.59l7.72-7.72 1.47 1.35L5.41 20z\"/>\n",
              "  </svg>\n",
              "      </button>\n",
              "      \n",
              "  <style>\n",
              "    .colab-df-container {\n",
              "      display:flex;\n",
              "      flex-wrap:wrap;\n",
              "      gap: 12px;\n",
              "    }\n",
              "\n",
              "    .colab-df-convert {\n",
              "      background-color: #E8F0FE;\n",
              "      border: none;\n",
              "      border-radius: 50%;\n",
              "      cursor: pointer;\n",
              "      display: none;\n",
              "      fill: #1967D2;\n",
              "      height: 32px;\n",
              "      padding: 0 0 0 0;\n",
              "      width: 32px;\n",
              "    }\n",
              "\n",
              "    .colab-df-convert:hover {\n",
              "      background-color: #E2EBFA;\n",
              "      box-shadow: 0px 1px 2px rgba(60, 64, 67, 0.3), 0px 1px 3px 1px rgba(60, 64, 67, 0.15);\n",
              "      fill: #174EA6;\n",
              "    }\n",
              "\n",
              "    [theme=dark] .colab-df-convert {\n",
              "      background-color: #3B4455;\n",
              "      fill: #D2E3FC;\n",
              "    }\n",
              "\n",
              "    [theme=dark] .colab-df-convert:hover {\n",
              "      background-color: #434B5C;\n",
              "      box-shadow: 0px 1px 3px 1px rgba(0, 0, 0, 0.15);\n",
              "      filter: drop-shadow(0px 1px 2px rgba(0, 0, 0, 0.3));\n",
              "      fill: #FFFFFF;\n",
              "    }\n",
              "  </style>\n",
              "\n",
              "      <script>\n",
              "        const buttonEl =\n",
              "          document.querySelector('#df-8164c59e-7dda-4d5d-af9a-5cc40c7f3c83 button.colab-df-convert');\n",
              "        buttonEl.style.display =\n",
              "          google.colab.kernel.accessAllowed ? 'block' : 'none';\n",
              "\n",
              "        async function convertToInteractive(key) {\n",
              "          const element = document.querySelector('#df-8164c59e-7dda-4d5d-af9a-5cc40c7f3c83');\n",
              "          const dataTable =\n",
              "            await google.colab.kernel.invokeFunction('convertToInteractive',\n",
              "                                                     [key], {});\n",
              "          if (!dataTable) return;\n",
              "\n",
              "          const docLinkHtml = 'Like what you see? Visit the ' +\n",
              "            '<a target=\"_blank\" href=https://colab.research.google.com/notebooks/data_table.ipynb>data table notebook</a>'\n",
              "            + ' to learn more about interactive tables.';\n",
              "          element.innerHTML = '';\n",
              "          dataTable['output_type'] = 'display_data';\n",
              "          await google.colab.output.renderOutput(dataTable, element);\n",
              "          const docLink = document.createElement('div');\n",
              "          docLink.innerHTML = docLinkHtml;\n",
              "          element.appendChild(docLink);\n",
              "        }\n",
              "      </script>\n",
              "    </div>\n",
              "  </div>\n",
              "  "
            ]
          },
          "metadata": {},
          "execution_count": 2
        }
      ]
    },
    {
      "cell_type": "code",
      "source": [
        "df.info()"
      ],
      "metadata": {
        "colab": {
          "base_uri": "https://localhost:8080/"
        },
        "id": "JfKFhj14HXWh",
        "outputId": "77039a2a-1fbe-4bd9-c588-c48c337a2df0"
      },
      "execution_count": 3,
      "outputs": [
        {
          "output_type": "stream",
          "name": "stdout",
          "text": [
            "<class 'pandas.core.frame.DataFrame'>\n",
            "RangeIndex: 1000 entries, 0 to 999\n",
            "Data columns (total 32 columns):\n",
            " #   Column              Non-Null Count  Dtype  \n",
            "---  ------              --------------  -----  \n",
            " 0   State               995 non-null    object \n",
            " 1   Lat                 1000 non-null   float64\n",
            " 2   Lng                 1000 non-null   float64\n",
            " 3   Area                995 non-null    object \n",
            " 4   Children            993 non-null    float64\n",
            " 5   Age                 1000 non-null   int64  \n",
            " 6   Income              1000 non-null   float64\n",
            " 7   Marital             995 non-null    object \n",
            " 8   Gender              995 non-null    object \n",
            " 9   ReAdmis             1000 non-null   int64  \n",
            " 10  VitD_levels         1000 non-null   float64\n",
            " 11  Doc_visits          1000 non-null   int64  \n",
            " 12  Full_meals_eaten    1000 non-null   int64  \n",
            " 13  vitD_supp           1000 non-null   int64  \n",
            " 14  Soft_drink          1000 non-null   int64  \n",
            " 15  Initial_admin       995 non-null    object \n",
            " 16  HighBlood           1000 non-null   int64  \n",
            " 17  Stroke              1000 non-null   int64  \n",
            " 18  Complication_risk   995 non-null    object \n",
            " 19  Overweight          1000 non-null   int64  \n",
            " 20  Arthritis           994 non-null    float64\n",
            " 21  Diabetes            994 non-null    float64\n",
            " 22  Hyperlipidemia      998 non-null    float64\n",
            " 23  BackPain            992 non-null    float64\n",
            " 24  Anxiety             998 non-null    float64\n",
            " 25  Allergic_rhinitis   994 non-null    float64\n",
            " 26  Reflux_esophagitis  1000 non-null   int64  \n",
            " 27  Asthma              1000 non-null   int64  \n",
            " 28  Services            995 non-null    object \n",
            " 29  Initial_days        1000 non-null   float64\n",
            " 30  TotalCharge         1000 non-null   float64\n",
            " 31  Additional_charges  1000 non-null   float64\n",
            "dtypes: float64(14), int64(11), object(7)\n",
            "memory usage: 250.1+ KB\n"
          ]
        }
      ]
    },
    {
      "cell_type": "code",
      "source": [
        "# Complication_risk column is an ordinal category\n",
        "df['Complication_risk'].unique()"
      ],
      "metadata": {
        "colab": {
          "base_uri": "https://localhost:8080/"
        },
        "id": "M3nPcUWIHeH9",
        "outputId": "3d80cb94-e5e3-4ae9-eb7d-b7c546af92a4"
      },
      "execution_count": 4,
      "outputs": [
        {
          "output_type": "execute_result",
          "data": {
            "text/plain": [
              "array(['Medium', 'High', 'Low', 'Med', nan], dtype=object)"
            ]
          },
          "metadata": {},
          "execution_count": 4
        }
      ]
    },
    {
      "cell_type": "markdown",
      "source": [
        "### Ordinal Encoding"
      ],
      "metadata": {
        "id": "mYGj1tH5H0lw"
      }
    },
    {
      "cell_type": "code",
      "source": [
        "df['Complication_risk'].value_counts()"
      ],
      "metadata": {
        "colab": {
          "base_uri": "https://localhost:8080/"
        },
        "id": "tN5O6ei2Hrfw",
        "outputId": "f5e1ea3a-3bff-4612-e81f-fb181e3c6cfb"
      },
      "execution_count": 5,
      "outputs": [
        {
          "output_type": "execute_result",
          "data": {
            "text/plain": [
              "Medium    459\n",
              "High      311\n",
              "Low       221\n",
              "Med         4\n",
              "Name: Complication_risk, dtype: int64"
            ]
          },
          "metadata": {},
          "execution_count": 5
        }
      ]
    },
    {
      "cell_type": "code",
      "source": [
        "# Ordinal Encode Complication_risk column\n",
        "\n",
        "replace_dict = {\n",
        "    'High':2,\n",
        "    'Medium':1,\n",
        "    'Med':1,\n",
        "    'Low':0\n",
        "}\n",
        "\n",
        "df['Complication_risk'].replace(replace_dict, inplace=True)\n",
        "df['Complication_risk'].head()"
      ],
      "metadata": {
        "colab": {
          "base_uri": "https://localhost:8080/"
        },
        "id": "VaaKSmLZH4gd",
        "outputId": "cc53e0f7-f5c5-43bf-8306-524955a977ae"
      },
      "execution_count": 6,
      "outputs": [
        {
          "output_type": "execute_result",
          "data": {
            "text/plain": [
              "0    1.0\n",
              "1    2.0\n",
              "2    1.0\n",
              "3    1.0\n",
              "4    0.0\n",
              "Name: Complication_risk, dtype: float64"
            ]
          },
          "metadata": {},
          "execution_count": 6
        }
      ]
    },
    {
      "cell_type": "markdown",
      "source": [
        "### Validation Split"
      ],
      "metadata": {
        "id": "V8YQeVE_IcHj"
      }
    },
    {
      "cell_type": "code",
      "source": [
        "# Train test split\n",
        "\n",
        "X = df.drop(columns='Additional_charges', axis=1)\n",
        "y = df['Additional_charges']\n",
        "X_train, X_test, y_train, y_test = train_test_split(X, y, random_state=42)"
      ],
      "metadata": {
        "id": "o11_aoDXIXr2"
      },
      "execution_count": 7,
      "outputs": []
    },
    {
      "cell_type": "markdown",
      "source": [
        "### ColumnSelector"
      ],
      "metadata": {
        "id": "SBcKoPwUI0rS"
      }
    },
    {
      "cell_type": "code",
      "source": [
        "# Instantiate ColumnSelector\n",
        "\n",
        "num_selector = make_column_selector(dtype_include='number')\n",
        "cat_selector = make_column_selector(dtype_include='object')"
      ],
      "metadata": {
        "id": "vnjNRh3OIzgO"
      },
      "execution_count": 8,
      "outputs": []
    },
    {
      "cell_type": "markdown",
      "source": [
        "### Transformers"
      ],
      "metadata": {
        "id": "e5uQazZlJFVa"
      }
    },
    {
      "cell_type": "code",
      "source": [
        "# Imputes\n",
        "freq_imputer = SimpleImputer(strategy='most_frequent')\n",
        "mean_imputer = SimpleImputer(strategy='mean')\n",
        "# Scaler\n",
        "scaler = StandardScaler()\n",
        "# One-Hot Endode\n",
        "ohe = OneHotEncoder(handle_unknown='ignore', sparse=False)"
      ],
      "metadata": {
        "id": "pFt6m5-kJDmt"
      },
      "execution_count": 9,
      "outputs": []
    },
    {
      "cell_type": "markdown",
      "source": [
        "### Instantiate Pipeline"
      ],
      "metadata": {
        "id": "ARTGhZ1iJh_H"
      }
    },
    {
      "cell_type": "code",
      "source": [
        "# Categorical Pipeline\n",
        "categorical_pipeline = make_pipeline(freq_imputer, ohe)\n",
        "categorical_pipeline"
      ],
      "metadata": {
        "colab": {
          "base_uri": "https://localhost:8080/",
          "height": 126
        },
        "id": "5YTkp6VRJhLy",
        "outputId": "4f9b8553-a9ee-402c-8ac7-f651812b64c8"
      },
      "execution_count": 10,
      "outputs": [
        {
          "output_type": "execute_result",
          "data": {
            "text/plain": [
              "Pipeline(steps=[('simpleimputer', SimpleImputer(strategy='most_frequent')),\n",
              "                ('onehotencoder',\n",
              "                 OneHotEncoder(handle_unknown='ignore', sparse=False))])"
            ],
            "text/html": [
              "<style>#sk-2492e75c-1242-4583-b3c2-ecdfe550db04 {color: black;background-color: white;}#sk-2492e75c-1242-4583-b3c2-ecdfe550db04 pre{padding: 0;}#sk-2492e75c-1242-4583-b3c2-ecdfe550db04 div.sk-toggleable {background-color: white;}#sk-2492e75c-1242-4583-b3c2-ecdfe550db04 label.sk-toggleable__label {cursor: pointer;display: block;width: 100%;margin-bottom: 0;padding: 0.3em;box-sizing: border-box;text-align: center;}#sk-2492e75c-1242-4583-b3c2-ecdfe550db04 label.sk-toggleable__label-arrow:before {content: \"▸\";float: left;margin-right: 0.25em;color: #696969;}#sk-2492e75c-1242-4583-b3c2-ecdfe550db04 label.sk-toggleable__label-arrow:hover:before {color: black;}#sk-2492e75c-1242-4583-b3c2-ecdfe550db04 div.sk-estimator:hover label.sk-toggleable__label-arrow:before {color: black;}#sk-2492e75c-1242-4583-b3c2-ecdfe550db04 div.sk-toggleable__content {max-height: 0;max-width: 0;overflow: hidden;text-align: left;background-color: #f0f8ff;}#sk-2492e75c-1242-4583-b3c2-ecdfe550db04 div.sk-toggleable__content pre {margin: 0.2em;color: black;border-radius: 0.25em;background-color: #f0f8ff;}#sk-2492e75c-1242-4583-b3c2-ecdfe550db04 input.sk-toggleable__control:checked~div.sk-toggleable__content {max-height: 200px;max-width: 100%;overflow: auto;}#sk-2492e75c-1242-4583-b3c2-ecdfe550db04 input.sk-toggleable__control:checked~label.sk-toggleable__label-arrow:before {content: \"▾\";}#sk-2492e75c-1242-4583-b3c2-ecdfe550db04 div.sk-estimator input.sk-toggleable__control:checked~label.sk-toggleable__label {background-color: #d4ebff;}#sk-2492e75c-1242-4583-b3c2-ecdfe550db04 div.sk-label input.sk-toggleable__control:checked~label.sk-toggleable__label {background-color: #d4ebff;}#sk-2492e75c-1242-4583-b3c2-ecdfe550db04 input.sk-hidden--visually {border: 0;clip: rect(1px 1px 1px 1px);clip: rect(1px, 1px, 1px, 1px);height: 1px;margin: -1px;overflow: hidden;padding: 0;position: absolute;width: 1px;}#sk-2492e75c-1242-4583-b3c2-ecdfe550db04 div.sk-estimator {font-family: monospace;background-color: #f0f8ff;border: 1px dotted black;border-radius: 0.25em;box-sizing: border-box;margin-bottom: 0.5em;}#sk-2492e75c-1242-4583-b3c2-ecdfe550db04 div.sk-estimator:hover {background-color: #d4ebff;}#sk-2492e75c-1242-4583-b3c2-ecdfe550db04 div.sk-parallel-item::after {content: \"\";width: 100%;border-bottom: 1px solid gray;flex-grow: 1;}#sk-2492e75c-1242-4583-b3c2-ecdfe550db04 div.sk-label:hover label.sk-toggleable__label {background-color: #d4ebff;}#sk-2492e75c-1242-4583-b3c2-ecdfe550db04 div.sk-serial::before {content: \"\";position: absolute;border-left: 1px solid gray;box-sizing: border-box;top: 2em;bottom: 0;left: 50%;}#sk-2492e75c-1242-4583-b3c2-ecdfe550db04 div.sk-serial {display: flex;flex-direction: column;align-items: center;background-color: white;padding-right: 0.2em;padding-left: 0.2em;}#sk-2492e75c-1242-4583-b3c2-ecdfe550db04 div.sk-item {z-index: 1;}#sk-2492e75c-1242-4583-b3c2-ecdfe550db04 div.sk-parallel {display: flex;align-items: stretch;justify-content: center;background-color: white;}#sk-2492e75c-1242-4583-b3c2-ecdfe550db04 div.sk-parallel::before {content: \"\";position: absolute;border-left: 1px solid gray;box-sizing: border-box;top: 2em;bottom: 0;left: 50%;}#sk-2492e75c-1242-4583-b3c2-ecdfe550db04 div.sk-parallel-item {display: flex;flex-direction: column;position: relative;background-color: white;}#sk-2492e75c-1242-4583-b3c2-ecdfe550db04 div.sk-parallel-item:first-child::after {align-self: flex-end;width: 50%;}#sk-2492e75c-1242-4583-b3c2-ecdfe550db04 div.sk-parallel-item:last-child::after {align-self: flex-start;width: 50%;}#sk-2492e75c-1242-4583-b3c2-ecdfe550db04 div.sk-parallel-item:only-child::after {width: 0;}#sk-2492e75c-1242-4583-b3c2-ecdfe550db04 div.sk-dashed-wrapped {border: 1px dashed gray;margin: 0 0.4em 0.5em 0.4em;box-sizing: border-box;padding-bottom: 0.4em;background-color: white;position: relative;}#sk-2492e75c-1242-4583-b3c2-ecdfe550db04 div.sk-label label {font-family: monospace;font-weight: bold;background-color: white;display: inline-block;line-height: 1.2em;}#sk-2492e75c-1242-4583-b3c2-ecdfe550db04 div.sk-label-container {position: relative;z-index: 2;text-align: center;}#sk-2492e75c-1242-4583-b3c2-ecdfe550db04 div.sk-container {/* jupyter's `normalize.less` sets `[hidden] { display: none; }` but bootstrap.min.css set `[hidden] { display: none !important; }` so we also need the `!important` here to be able to override the default hidden behavior on the sphinx rendered scikit-learn.org. See: https://github.com/scikit-learn/scikit-learn/issues/21755 */display: inline-block !important;position: relative;}#sk-2492e75c-1242-4583-b3c2-ecdfe550db04 div.sk-text-repr-fallback {display: none;}</style><div id=\"sk-2492e75c-1242-4583-b3c2-ecdfe550db04\" class=\"sk-top-container\"><div class=\"sk-text-repr-fallback\"><pre>Pipeline(steps=[(&#x27;simpleimputer&#x27;, SimpleImputer(strategy=&#x27;most_frequent&#x27;)),\n",
              "                (&#x27;onehotencoder&#x27;,\n",
              "                 OneHotEncoder(handle_unknown=&#x27;ignore&#x27;, sparse=False))])</pre><b>Please rerun this cell to show the HTML repr or trust the notebook.</b></div><div class=\"sk-container\" hidden><div class=\"sk-item sk-dashed-wrapped\"><div class=\"sk-label-container\"><div class=\"sk-label sk-toggleable\"><input class=\"sk-toggleable__control sk-hidden--visually\" id=\"0ff08f13-a58f-4245-aa27-58b6b25a8159\" type=\"checkbox\" ><label for=\"0ff08f13-a58f-4245-aa27-58b6b25a8159\" class=\"sk-toggleable__label sk-toggleable__label-arrow\">Pipeline</label><div class=\"sk-toggleable__content\"><pre>Pipeline(steps=[(&#x27;simpleimputer&#x27;, SimpleImputer(strategy=&#x27;most_frequent&#x27;)),\n",
              "                (&#x27;onehotencoder&#x27;,\n",
              "                 OneHotEncoder(handle_unknown=&#x27;ignore&#x27;, sparse=False))])</pre></div></div></div><div class=\"sk-serial\"><div class=\"sk-item\"><div class=\"sk-estimator sk-toggleable\"><input class=\"sk-toggleable__control sk-hidden--visually\" id=\"f00fd48a-edad-43f7-a6e2-752ea9841b9c\" type=\"checkbox\" ><label for=\"f00fd48a-edad-43f7-a6e2-752ea9841b9c\" class=\"sk-toggleable__label sk-toggleable__label-arrow\">SimpleImputer</label><div class=\"sk-toggleable__content\"><pre>SimpleImputer(strategy=&#x27;most_frequent&#x27;)</pre></div></div></div><div class=\"sk-item\"><div class=\"sk-estimator sk-toggleable\"><input class=\"sk-toggleable__control sk-hidden--visually\" id=\"9be2b2de-7e49-408e-bc6c-3fc4aa22a211\" type=\"checkbox\" ><label for=\"9be2b2de-7e49-408e-bc6c-3fc4aa22a211\" class=\"sk-toggleable__label sk-toggleable__label-arrow\">OneHotEncoder</label><div class=\"sk-toggleable__content\"><pre>OneHotEncoder(handle_unknown=&#x27;ignore&#x27;, sparse=False)</pre></div></div></div></div></div></div></div>"
            ]
          },
          "metadata": {},
          "execution_count": 10
        }
      ]
    },
    {
      "cell_type": "code",
      "source": [
        "# Numericl Pipeline\n",
        "numeric_pipeline = make_pipeline(mean_imputer, scaler)\n",
        "numeric_pipeline"
      ],
      "metadata": {
        "colab": {
          "base_uri": "https://localhost:8080/",
          "height": 126
        },
        "id": "yco-44ZoJ6VS",
        "outputId": "80796843-6de8-4ed4-9456-82f514fbe6b8"
      },
      "execution_count": 11,
      "outputs": [
        {
          "output_type": "execute_result",
          "data": {
            "text/plain": [
              "Pipeline(steps=[('simpleimputer', SimpleImputer()),\n",
              "                ('standardscaler', StandardScaler())])"
            ],
            "text/html": [
              "<style>#sk-1d2a7223-b35d-4d13-8adb-944ac646d057 {color: black;background-color: white;}#sk-1d2a7223-b35d-4d13-8adb-944ac646d057 pre{padding: 0;}#sk-1d2a7223-b35d-4d13-8adb-944ac646d057 div.sk-toggleable {background-color: white;}#sk-1d2a7223-b35d-4d13-8adb-944ac646d057 label.sk-toggleable__label {cursor: pointer;display: block;width: 100%;margin-bottom: 0;padding: 0.3em;box-sizing: border-box;text-align: center;}#sk-1d2a7223-b35d-4d13-8adb-944ac646d057 label.sk-toggleable__label-arrow:before {content: \"▸\";float: left;margin-right: 0.25em;color: #696969;}#sk-1d2a7223-b35d-4d13-8adb-944ac646d057 label.sk-toggleable__label-arrow:hover:before {color: black;}#sk-1d2a7223-b35d-4d13-8adb-944ac646d057 div.sk-estimator:hover label.sk-toggleable__label-arrow:before {color: black;}#sk-1d2a7223-b35d-4d13-8adb-944ac646d057 div.sk-toggleable__content {max-height: 0;max-width: 0;overflow: hidden;text-align: left;background-color: #f0f8ff;}#sk-1d2a7223-b35d-4d13-8adb-944ac646d057 div.sk-toggleable__content pre {margin: 0.2em;color: black;border-radius: 0.25em;background-color: #f0f8ff;}#sk-1d2a7223-b35d-4d13-8adb-944ac646d057 input.sk-toggleable__control:checked~div.sk-toggleable__content {max-height: 200px;max-width: 100%;overflow: auto;}#sk-1d2a7223-b35d-4d13-8adb-944ac646d057 input.sk-toggleable__control:checked~label.sk-toggleable__label-arrow:before {content: \"▾\";}#sk-1d2a7223-b35d-4d13-8adb-944ac646d057 div.sk-estimator input.sk-toggleable__control:checked~label.sk-toggleable__label {background-color: #d4ebff;}#sk-1d2a7223-b35d-4d13-8adb-944ac646d057 div.sk-label input.sk-toggleable__control:checked~label.sk-toggleable__label {background-color: #d4ebff;}#sk-1d2a7223-b35d-4d13-8adb-944ac646d057 input.sk-hidden--visually {border: 0;clip: rect(1px 1px 1px 1px);clip: rect(1px, 1px, 1px, 1px);height: 1px;margin: -1px;overflow: hidden;padding: 0;position: absolute;width: 1px;}#sk-1d2a7223-b35d-4d13-8adb-944ac646d057 div.sk-estimator {font-family: monospace;background-color: #f0f8ff;border: 1px dotted black;border-radius: 0.25em;box-sizing: border-box;margin-bottom: 0.5em;}#sk-1d2a7223-b35d-4d13-8adb-944ac646d057 div.sk-estimator:hover {background-color: #d4ebff;}#sk-1d2a7223-b35d-4d13-8adb-944ac646d057 div.sk-parallel-item::after {content: \"\";width: 100%;border-bottom: 1px solid gray;flex-grow: 1;}#sk-1d2a7223-b35d-4d13-8adb-944ac646d057 div.sk-label:hover label.sk-toggleable__label {background-color: #d4ebff;}#sk-1d2a7223-b35d-4d13-8adb-944ac646d057 div.sk-serial::before {content: \"\";position: absolute;border-left: 1px solid gray;box-sizing: border-box;top: 2em;bottom: 0;left: 50%;}#sk-1d2a7223-b35d-4d13-8adb-944ac646d057 div.sk-serial {display: flex;flex-direction: column;align-items: center;background-color: white;padding-right: 0.2em;padding-left: 0.2em;}#sk-1d2a7223-b35d-4d13-8adb-944ac646d057 div.sk-item {z-index: 1;}#sk-1d2a7223-b35d-4d13-8adb-944ac646d057 div.sk-parallel {display: flex;align-items: stretch;justify-content: center;background-color: white;}#sk-1d2a7223-b35d-4d13-8adb-944ac646d057 div.sk-parallel::before {content: \"\";position: absolute;border-left: 1px solid gray;box-sizing: border-box;top: 2em;bottom: 0;left: 50%;}#sk-1d2a7223-b35d-4d13-8adb-944ac646d057 div.sk-parallel-item {display: flex;flex-direction: column;position: relative;background-color: white;}#sk-1d2a7223-b35d-4d13-8adb-944ac646d057 div.sk-parallel-item:first-child::after {align-self: flex-end;width: 50%;}#sk-1d2a7223-b35d-4d13-8adb-944ac646d057 div.sk-parallel-item:last-child::after {align-self: flex-start;width: 50%;}#sk-1d2a7223-b35d-4d13-8adb-944ac646d057 div.sk-parallel-item:only-child::after {width: 0;}#sk-1d2a7223-b35d-4d13-8adb-944ac646d057 div.sk-dashed-wrapped {border: 1px dashed gray;margin: 0 0.4em 0.5em 0.4em;box-sizing: border-box;padding-bottom: 0.4em;background-color: white;position: relative;}#sk-1d2a7223-b35d-4d13-8adb-944ac646d057 div.sk-label label {font-family: monospace;font-weight: bold;background-color: white;display: inline-block;line-height: 1.2em;}#sk-1d2a7223-b35d-4d13-8adb-944ac646d057 div.sk-label-container {position: relative;z-index: 2;text-align: center;}#sk-1d2a7223-b35d-4d13-8adb-944ac646d057 div.sk-container {/* jupyter's `normalize.less` sets `[hidden] { display: none; }` but bootstrap.min.css set `[hidden] { display: none !important; }` so we also need the `!important` here to be able to override the default hidden behavior on the sphinx rendered scikit-learn.org. See: https://github.com/scikit-learn/scikit-learn/issues/21755 */display: inline-block !important;position: relative;}#sk-1d2a7223-b35d-4d13-8adb-944ac646d057 div.sk-text-repr-fallback {display: none;}</style><div id=\"sk-1d2a7223-b35d-4d13-8adb-944ac646d057\" class=\"sk-top-container\"><div class=\"sk-text-repr-fallback\"><pre>Pipeline(steps=[(&#x27;simpleimputer&#x27;, SimpleImputer()),\n",
              "                (&#x27;standardscaler&#x27;, StandardScaler())])</pre><b>Please rerun this cell to show the HTML repr or trust the notebook.</b></div><div class=\"sk-container\" hidden><div class=\"sk-item sk-dashed-wrapped\"><div class=\"sk-label-container\"><div class=\"sk-label sk-toggleable\"><input class=\"sk-toggleable__control sk-hidden--visually\" id=\"30573a26-483f-4241-b255-808b26632799\" type=\"checkbox\" ><label for=\"30573a26-483f-4241-b255-808b26632799\" class=\"sk-toggleable__label sk-toggleable__label-arrow\">Pipeline</label><div class=\"sk-toggleable__content\"><pre>Pipeline(steps=[(&#x27;simpleimputer&#x27;, SimpleImputer()),\n",
              "                (&#x27;standardscaler&#x27;, StandardScaler())])</pre></div></div></div><div class=\"sk-serial\"><div class=\"sk-item\"><div class=\"sk-estimator sk-toggleable\"><input class=\"sk-toggleable__control sk-hidden--visually\" id=\"bd46fddb-b003-4571-a67b-ede3aedcbf03\" type=\"checkbox\" ><label for=\"bd46fddb-b003-4571-a67b-ede3aedcbf03\" class=\"sk-toggleable__label sk-toggleable__label-arrow\">SimpleImputer</label><div class=\"sk-toggleable__content\"><pre>SimpleImputer()</pre></div></div></div><div class=\"sk-item\"><div class=\"sk-estimator sk-toggleable\"><input class=\"sk-toggleable__control sk-hidden--visually\" id=\"9222958e-ef97-468d-9165-2d551baad239\" type=\"checkbox\" ><label for=\"9222958e-ef97-468d-9165-2d551baad239\" class=\"sk-toggleable__label sk-toggleable__label-arrow\">StandardScaler</label><div class=\"sk-toggleable__content\"><pre>StandardScaler()</pre></div></div></div></div></div></div></div>"
            ]
          },
          "metadata": {},
          "execution_count": 11
        }
      ]
    },
    {
      "cell_type": "markdown",
      "source": [
        "### Instantiate ColumnTransformer"
      ],
      "metadata": {
        "id": "Hlk68OLtKQXR"
      }
    },
    {
      "cell_type": "code",
      "source": [
        "# Tuples for Column Transformer\n",
        "num_tuple = (numeric_pipeline, num_selector)\n",
        "cat_tuple = (categorical_pipeline, cat_selector)\n",
        "\n",
        "# ColumnTransformer\n",
        "preprocessor = make_column_transformer(num_tuple, cat_tuple)\n",
        "preprocessor"
      ],
      "metadata": {
        "colab": {
          "base_uri": "https://localhost:8080/",
          "height": 152
        },
        "id": "JdhzvWiwKF12",
        "outputId": "dbb0b0da-893e-423d-ecc1-b325c2c4bfbc"
      },
      "execution_count": 12,
      "outputs": [
        {
          "output_type": "execute_result",
          "data": {
            "text/plain": [
              "ColumnTransformer(transformers=[('pipeline-1',\n",
              "                                 Pipeline(steps=[('simpleimputer',\n",
              "                                                  SimpleImputer()),\n",
              "                                                 ('standardscaler',\n",
              "                                                  StandardScaler())]),\n",
              "                                 <sklearn.compose._column_transformer.make_column_selector object at 0x7f0eadae1810>),\n",
              "                                ('pipeline-2',\n",
              "                                 Pipeline(steps=[('simpleimputer',\n",
              "                                                  SimpleImputer(strategy='most_frequent')),\n",
              "                                                 ('onehotencoder',\n",
              "                                                  OneHotEncoder(handle_unknown='ignore',\n",
              "                                                                sparse=False))]),\n",
              "                                 <sklearn.compose._column_transformer.make_column_selector object at 0x7f0eadae1890>)])"
            ],
            "text/html": [
              "<style>#sk-d850fba9-f265-4c41-9178-0c00043b3808 {color: black;background-color: white;}#sk-d850fba9-f265-4c41-9178-0c00043b3808 pre{padding: 0;}#sk-d850fba9-f265-4c41-9178-0c00043b3808 div.sk-toggleable {background-color: white;}#sk-d850fba9-f265-4c41-9178-0c00043b3808 label.sk-toggleable__label {cursor: pointer;display: block;width: 100%;margin-bottom: 0;padding: 0.3em;box-sizing: border-box;text-align: center;}#sk-d850fba9-f265-4c41-9178-0c00043b3808 label.sk-toggleable__label-arrow:before {content: \"▸\";float: left;margin-right: 0.25em;color: #696969;}#sk-d850fba9-f265-4c41-9178-0c00043b3808 label.sk-toggleable__label-arrow:hover:before {color: black;}#sk-d850fba9-f265-4c41-9178-0c00043b3808 div.sk-estimator:hover label.sk-toggleable__label-arrow:before {color: black;}#sk-d850fba9-f265-4c41-9178-0c00043b3808 div.sk-toggleable__content {max-height: 0;max-width: 0;overflow: hidden;text-align: left;background-color: #f0f8ff;}#sk-d850fba9-f265-4c41-9178-0c00043b3808 div.sk-toggleable__content pre {margin: 0.2em;color: black;border-radius: 0.25em;background-color: #f0f8ff;}#sk-d850fba9-f265-4c41-9178-0c00043b3808 input.sk-toggleable__control:checked~div.sk-toggleable__content {max-height: 200px;max-width: 100%;overflow: auto;}#sk-d850fba9-f265-4c41-9178-0c00043b3808 input.sk-toggleable__control:checked~label.sk-toggleable__label-arrow:before {content: \"▾\";}#sk-d850fba9-f265-4c41-9178-0c00043b3808 div.sk-estimator input.sk-toggleable__control:checked~label.sk-toggleable__label {background-color: #d4ebff;}#sk-d850fba9-f265-4c41-9178-0c00043b3808 div.sk-label input.sk-toggleable__control:checked~label.sk-toggleable__label {background-color: #d4ebff;}#sk-d850fba9-f265-4c41-9178-0c00043b3808 input.sk-hidden--visually {border: 0;clip: rect(1px 1px 1px 1px);clip: rect(1px, 1px, 1px, 1px);height: 1px;margin: -1px;overflow: hidden;padding: 0;position: absolute;width: 1px;}#sk-d850fba9-f265-4c41-9178-0c00043b3808 div.sk-estimator {font-family: monospace;background-color: #f0f8ff;border: 1px dotted black;border-radius: 0.25em;box-sizing: border-box;margin-bottom: 0.5em;}#sk-d850fba9-f265-4c41-9178-0c00043b3808 div.sk-estimator:hover {background-color: #d4ebff;}#sk-d850fba9-f265-4c41-9178-0c00043b3808 div.sk-parallel-item::after {content: \"\";width: 100%;border-bottom: 1px solid gray;flex-grow: 1;}#sk-d850fba9-f265-4c41-9178-0c00043b3808 div.sk-label:hover label.sk-toggleable__label {background-color: #d4ebff;}#sk-d850fba9-f265-4c41-9178-0c00043b3808 div.sk-serial::before {content: \"\";position: absolute;border-left: 1px solid gray;box-sizing: border-box;top: 2em;bottom: 0;left: 50%;}#sk-d850fba9-f265-4c41-9178-0c00043b3808 div.sk-serial {display: flex;flex-direction: column;align-items: center;background-color: white;padding-right: 0.2em;padding-left: 0.2em;}#sk-d850fba9-f265-4c41-9178-0c00043b3808 div.sk-item {z-index: 1;}#sk-d850fba9-f265-4c41-9178-0c00043b3808 div.sk-parallel {display: flex;align-items: stretch;justify-content: center;background-color: white;}#sk-d850fba9-f265-4c41-9178-0c00043b3808 div.sk-parallel::before {content: \"\";position: absolute;border-left: 1px solid gray;box-sizing: border-box;top: 2em;bottom: 0;left: 50%;}#sk-d850fba9-f265-4c41-9178-0c00043b3808 div.sk-parallel-item {display: flex;flex-direction: column;position: relative;background-color: white;}#sk-d850fba9-f265-4c41-9178-0c00043b3808 div.sk-parallel-item:first-child::after {align-self: flex-end;width: 50%;}#sk-d850fba9-f265-4c41-9178-0c00043b3808 div.sk-parallel-item:last-child::after {align-self: flex-start;width: 50%;}#sk-d850fba9-f265-4c41-9178-0c00043b3808 div.sk-parallel-item:only-child::after {width: 0;}#sk-d850fba9-f265-4c41-9178-0c00043b3808 div.sk-dashed-wrapped {border: 1px dashed gray;margin: 0 0.4em 0.5em 0.4em;box-sizing: border-box;padding-bottom: 0.4em;background-color: white;position: relative;}#sk-d850fba9-f265-4c41-9178-0c00043b3808 div.sk-label label {font-family: monospace;font-weight: bold;background-color: white;display: inline-block;line-height: 1.2em;}#sk-d850fba9-f265-4c41-9178-0c00043b3808 div.sk-label-container {position: relative;z-index: 2;text-align: center;}#sk-d850fba9-f265-4c41-9178-0c00043b3808 div.sk-container {/* jupyter's `normalize.less` sets `[hidden] { display: none; }` but bootstrap.min.css set `[hidden] { display: none !important; }` so we also need the `!important` here to be able to override the default hidden behavior on the sphinx rendered scikit-learn.org. See: https://github.com/scikit-learn/scikit-learn/issues/21755 */display: inline-block !important;position: relative;}#sk-d850fba9-f265-4c41-9178-0c00043b3808 div.sk-text-repr-fallback {display: none;}</style><div id=\"sk-d850fba9-f265-4c41-9178-0c00043b3808\" class=\"sk-top-container\"><div class=\"sk-text-repr-fallback\"><pre>ColumnTransformer(transformers=[(&#x27;pipeline-1&#x27;,\n",
              "                                 Pipeline(steps=[(&#x27;simpleimputer&#x27;,\n",
              "                                                  SimpleImputer()),\n",
              "                                                 (&#x27;standardscaler&#x27;,\n",
              "                                                  StandardScaler())]),\n",
              "                                 &lt;sklearn.compose._column_transformer.make_column_selector object at 0x7f0eadae1810&gt;),\n",
              "                                (&#x27;pipeline-2&#x27;,\n",
              "                                 Pipeline(steps=[(&#x27;simpleimputer&#x27;,\n",
              "                                                  SimpleImputer(strategy=&#x27;most_frequent&#x27;)),\n",
              "                                                 (&#x27;onehotencoder&#x27;,\n",
              "                                                  OneHotEncoder(handle_unknown=&#x27;ignore&#x27;,\n",
              "                                                                sparse=False))]),\n",
              "                                 &lt;sklearn.compose._column_transformer.make_column_selector object at 0x7f0eadae1890&gt;)])</pre><b>Please rerun this cell to show the HTML repr or trust the notebook.</b></div><div class=\"sk-container\" hidden><div class=\"sk-item sk-dashed-wrapped\"><div class=\"sk-label-container\"><div class=\"sk-label sk-toggleable\"><input class=\"sk-toggleable__control sk-hidden--visually\" id=\"db93a512-3159-437f-b346-5267546d17ea\" type=\"checkbox\" ><label for=\"db93a512-3159-437f-b346-5267546d17ea\" class=\"sk-toggleable__label sk-toggleable__label-arrow\">ColumnTransformer</label><div class=\"sk-toggleable__content\"><pre>ColumnTransformer(transformers=[(&#x27;pipeline-1&#x27;,\n",
              "                                 Pipeline(steps=[(&#x27;simpleimputer&#x27;,\n",
              "                                                  SimpleImputer()),\n",
              "                                                 (&#x27;standardscaler&#x27;,\n",
              "                                                  StandardScaler())]),\n",
              "                                 &lt;sklearn.compose._column_transformer.make_column_selector object at 0x7f0eadae1810&gt;),\n",
              "                                (&#x27;pipeline-2&#x27;,\n",
              "                                 Pipeline(steps=[(&#x27;simpleimputer&#x27;,\n",
              "                                                  SimpleImputer(strategy=&#x27;most_frequent&#x27;)),\n",
              "                                                 (&#x27;onehotencoder&#x27;,\n",
              "                                                  OneHotEncoder(handle_unknown=&#x27;ignore&#x27;,\n",
              "                                                                sparse=False))]),\n",
              "                                 &lt;sklearn.compose._column_transformer.make_column_selector object at 0x7f0eadae1890&gt;)])</pre></div></div></div><div class=\"sk-parallel\"><div class=\"sk-parallel-item\"><div class=\"sk-item\"><div class=\"sk-label-container\"><div class=\"sk-label sk-toggleable\"><input class=\"sk-toggleable__control sk-hidden--visually\" id=\"2a5e3a66-79aa-48f8-994b-8bebd14a8676\" type=\"checkbox\" ><label for=\"2a5e3a66-79aa-48f8-994b-8bebd14a8676\" class=\"sk-toggleable__label sk-toggleable__label-arrow\">pipeline-1</label><div class=\"sk-toggleable__content\"><pre>&lt;sklearn.compose._column_transformer.make_column_selector object at 0x7f0eadae1810&gt;</pre></div></div></div><div class=\"sk-serial\"><div class=\"sk-item\"><div class=\"sk-serial\"><div class=\"sk-item\"><div class=\"sk-estimator sk-toggleable\"><input class=\"sk-toggleable__control sk-hidden--visually\" id=\"af5ef653-8535-4e06-afa4-22b552eee25d\" type=\"checkbox\" ><label for=\"af5ef653-8535-4e06-afa4-22b552eee25d\" class=\"sk-toggleable__label sk-toggleable__label-arrow\">SimpleImputer</label><div class=\"sk-toggleable__content\"><pre>SimpleImputer()</pre></div></div></div><div class=\"sk-item\"><div class=\"sk-estimator sk-toggleable\"><input class=\"sk-toggleable__control sk-hidden--visually\" id=\"3ba88bbd-8eb6-4695-b38b-0ab541814b49\" type=\"checkbox\" ><label for=\"3ba88bbd-8eb6-4695-b38b-0ab541814b49\" class=\"sk-toggleable__label sk-toggleable__label-arrow\">StandardScaler</label><div class=\"sk-toggleable__content\"><pre>StandardScaler()</pre></div></div></div></div></div></div></div></div><div class=\"sk-parallel-item\"><div class=\"sk-item\"><div class=\"sk-label-container\"><div class=\"sk-label sk-toggleable\"><input class=\"sk-toggleable__control sk-hidden--visually\" id=\"f6a7d186-16b2-4709-933c-3963854abb4f\" type=\"checkbox\" ><label for=\"f6a7d186-16b2-4709-933c-3963854abb4f\" class=\"sk-toggleable__label sk-toggleable__label-arrow\">pipeline-2</label><div class=\"sk-toggleable__content\"><pre>&lt;sklearn.compose._column_transformer.make_column_selector object at 0x7f0eadae1890&gt;</pre></div></div></div><div class=\"sk-serial\"><div class=\"sk-item\"><div class=\"sk-serial\"><div class=\"sk-item\"><div class=\"sk-estimator sk-toggleable\"><input class=\"sk-toggleable__control sk-hidden--visually\" id=\"faf26f97-5974-407e-8181-7bf371a3fe4d\" type=\"checkbox\" ><label for=\"faf26f97-5974-407e-8181-7bf371a3fe4d\" class=\"sk-toggleable__label sk-toggleable__label-arrow\">SimpleImputer</label><div class=\"sk-toggleable__content\"><pre>SimpleImputer(strategy=&#x27;most_frequent&#x27;)</pre></div></div></div><div class=\"sk-item\"><div class=\"sk-estimator sk-toggleable\"><input class=\"sk-toggleable__control sk-hidden--visually\" id=\"24fb8d2c-ff51-4437-9eb7-5d920b1fb3cc\" type=\"checkbox\" ><label for=\"24fb8d2c-ff51-4437-9eb7-5d920b1fb3cc\" class=\"sk-toggleable__label sk-toggleable__label-arrow\">OneHotEncoder</label><div class=\"sk-toggleable__content\"><pre>OneHotEncoder(handle_unknown=&#x27;ignore&#x27;, sparse=False)</pre></div></div></div></div></div></div></div></div></div></div></div></div>"
            ]
          },
          "metadata": {},
          "execution_count": 12
        }
      ]
    },
    {
      "cell_type": "markdown",
      "source": [
        "### Transformer Data"
      ],
      "metadata": {
        "id": "FU-h-PLtK67h"
      }
    },
    {
      "cell_type": "code",
      "source": [
        "# Fit on Train\n",
        "preprocessor.fit(X_train)"
      ],
      "metadata": {
        "colab": {
          "base_uri": "https://localhost:8080/",
          "height": 152
        },
        "id": "DcOVAYb4Kp8h",
        "outputId": "3570bcc1-fd9e-4b87-b5b7-6efca3655ef5"
      },
      "execution_count": 13,
      "outputs": [
        {
          "output_type": "execute_result",
          "data": {
            "text/plain": [
              "ColumnTransformer(transformers=[('pipeline-1',\n",
              "                                 Pipeline(steps=[('simpleimputer',\n",
              "                                                  SimpleImputer()),\n",
              "                                                 ('standardscaler',\n",
              "                                                  StandardScaler())]),\n",
              "                                 <sklearn.compose._column_transformer.make_column_selector object at 0x7f0eadae1810>),\n",
              "                                ('pipeline-2',\n",
              "                                 Pipeline(steps=[('simpleimputer',\n",
              "                                                  SimpleImputer(strategy='most_frequent')),\n",
              "                                                 ('onehotencoder',\n",
              "                                                  OneHotEncoder(handle_unknown='ignore',\n",
              "                                                                sparse=False))]),\n",
              "                                 <sklearn.compose._column_transformer.make_column_selector object at 0x7f0eadae1890>)])"
            ],
            "text/html": [
              "<style>#sk-be44f21b-6a2a-427d-915a-b97383fc1f9d {color: black;background-color: white;}#sk-be44f21b-6a2a-427d-915a-b97383fc1f9d pre{padding: 0;}#sk-be44f21b-6a2a-427d-915a-b97383fc1f9d div.sk-toggleable {background-color: white;}#sk-be44f21b-6a2a-427d-915a-b97383fc1f9d label.sk-toggleable__label {cursor: pointer;display: block;width: 100%;margin-bottom: 0;padding: 0.3em;box-sizing: border-box;text-align: center;}#sk-be44f21b-6a2a-427d-915a-b97383fc1f9d label.sk-toggleable__label-arrow:before {content: \"▸\";float: left;margin-right: 0.25em;color: #696969;}#sk-be44f21b-6a2a-427d-915a-b97383fc1f9d label.sk-toggleable__label-arrow:hover:before {color: black;}#sk-be44f21b-6a2a-427d-915a-b97383fc1f9d div.sk-estimator:hover label.sk-toggleable__label-arrow:before {color: black;}#sk-be44f21b-6a2a-427d-915a-b97383fc1f9d div.sk-toggleable__content {max-height: 0;max-width: 0;overflow: hidden;text-align: left;background-color: #f0f8ff;}#sk-be44f21b-6a2a-427d-915a-b97383fc1f9d div.sk-toggleable__content pre {margin: 0.2em;color: black;border-radius: 0.25em;background-color: #f0f8ff;}#sk-be44f21b-6a2a-427d-915a-b97383fc1f9d input.sk-toggleable__control:checked~div.sk-toggleable__content {max-height: 200px;max-width: 100%;overflow: auto;}#sk-be44f21b-6a2a-427d-915a-b97383fc1f9d input.sk-toggleable__control:checked~label.sk-toggleable__label-arrow:before {content: \"▾\";}#sk-be44f21b-6a2a-427d-915a-b97383fc1f9d div.sk-estimator input.sk-toggleable__control:checked~label.sk-toggleable__label {background-color: #d4ebff;}#sk-be44f21b-6a2a-427d-915a-b97383fc1f9d div.sk-label input.sk-toggleable__control:checked~label.sk-toggleable__label {background-color: #d4ebff;}#sk-be44f21b-6a2a-427d-915a-b97383fc1f9d input.sk-hidden--visually {border: 0;clip: rect(1px 1px 1px 1px);clip: rect(1px, 1px, 1px, 1px);height: 1px;margin: -1px;overflow: hidden;padding: 0;position: absolute;width: 1px;}#sk-be44f21b-6a2a-427d-915a-b97383fc1f9d div.sk-estimator {font-family: monospace;background-color: #f0f8ff;border: 1px dotted black;border-radius: 0.25em;box-sizing: border-box;margin-bottom: 0.5em;}#sk-be44f21b-6a2a-427d-915a-b97383fc1f9d div.sk-estimator:hover {background-color: #d4ebff;}#sk-be44f21b-6a2a-427d-915a-b97383fc1f9d div.sk-parallel-item::after {content: \"\";width: 100%;border-bottom: 1px solid gray;flex-grow: 1;}#sk-be44f21b-6a2a-427d-915a-b97383fc1f9d div.sk-label:hover label.sk-toggleable__label {background-color: #d4ebff;}#sk-be44f21b-6a2a-427d-915a-b97383fc1f9d div.sk-serial::before {content: \"\";position: absolute;border-left: 1px solid gray;box-sizing: border-box;top: 2em;bottom: 0;left: 50%;}#sk-be44f21b-6a2a-427d-915a-b97383fc1f9d div.sk-serial {display: flex;flex-direction: column;align-items: center;background-color: white;padding-right: 0.2em;padding-left: 0.2em;}#sk-be44f21b-6a2a-427d-915a-b97383fc1f9d div.sk-item {z-index: 1;}#sk-be44f21b-6a2a-427d-915a-b97383fc1f9d div.sk-parallel {display: flex;align-items: stretch;justify-content: center;background-color: white;}#sk-be44f21b-6a2a-427d-915a-b97383fc1f9d div.sk-parallel::before {content: \"\";position: absolute;border-left: 1px solid gray;box-sizing: border-box;top: 2em;bottom: 0;left: 50%;}#sk-be44f21b-6a2a-427d-915a-b97383fc1f9d div.sk-parallel-item {display: flex;flex-direction: column;position: relative;background-color: white;}#sk-be44f21b-6a2a-427d-915a-b97383fc1f9d div.sk-parallel-item:first-child::after {align-self: flex-end;width: 50%;}#sk-be44f21b-6a2a-427d-915a-b97383fc1f9d div.sk-parallel-item:last-child::after {align-self: flex-start;width: 50%;}#sk-be44f21b-6a2a-427d-915a-b97383fc1f9d div.sk-parallel-item:only-child::after {width: 0;}#sk-be44f21b-6a2a-427d-915a-b97383fc1f9d div.sk-dashed-wrapped {border: 1px dashed gray;margin: 0 0.4em 0.5em 0.4em;box-sizing: border-box;padding-bottom: 0.4em;background-color: white;position: relative;}#sk-be44f21b-6a2a-427d-915a-b97383fc1f9d div.sk-label label {font-family: monospace;font-weight: bold;background-color: white;display: inline-block;line-height: 1.2em;}#sk-be44f21b-6a2a-427d-915a-b97383fc1f9d div.sk-label-container {position: relative;z-index: 2;text-align: center;}#sk-be44f21b-6a2a-427d-915a-b97383fc1f9d div.sk-container {/* jupyter's `normalize.less` sets `[hidden] { display: none; }` but bootstrap.min.css set `[hidden] { display: none !important; }` so we also need the `!important` here to be able to override the default hidden behavior on the sphinx rendered scikit-learn.org. See: https://github.com/scikit-learn/scikit-learn/issues/21755 */display: inline-block !important;position: relative;}#sk-be44f21b-6a2a-427d-915a-b97383fc1f9d div.sk-text-repr-fallback {display: none;}</style><div id=\"sk-be44f21b-6a2a-427d-915a-b97383fc1f9d\" class=\"sk-top-container\"><div class=\"sk-text-repr-fallback\"><pre>ColumnTransformer(transformers=[(&#x27;pipeline-1&#x27;,\n",
              "                                 Pipeline(steps=[(&#x27;simpleimputer&#x27;,\n",
              "                                                  SimpleImputer()),\n",
              "                                                 (&#x27;standardscaler&#x27;,\n",
              "                                                  StandardScaler())]),\n",
              "                                 &lt;sklearn.compose._column_transformer.make_column_selector object at 0x7f0eadae1810&gt;),\n",
              "                                (&#x27;pipeline-2&#x27;,\n",
              "                                 Pipeline(steps=[(&#x27;simpleimputer&#x27;,\n",
              "                                                  SimpleImputer(strategy=&#x27;most_frequent&#x27;)),\n",
              "                                                 (&#x27;onehotencoder&#x27;,\n",
              "                                                  OneHotEncoder(handle_unknown=&#x27;ignore&#x27;,\n",
              "                                                                sparse=False))]),\n",
              "                                 &lt;sklearn.compose._column_transformer.make_column_selector object at 0x7f0eadae1890&gt;)])</pre><b>Please rerun this cell to show the HTML repr or trust the notebook.</b></div><div class=\"sk-container\" hidden><div class=\"sk-item sk-dashed-wrapped\"><div class=\"sk-label-container\"><div class=\"sk-label sk-toggleable\"><input class=\"sk-toggleable__control sk-hidden--visually\" id=\"f384c083-61f2-4638-8bbc-29ee0244489f\" type=\"checkbox\" ><label for=\"f384c083-61f2-4638-8bbc-29ee0244489f\" class=\"sk-toggleable__label sk-toggleable__label-arrow\">ColumnTransformer</label><div class=\"sk-toggleable__content\"><pre>ColumnTransformer(transformers=[(&#x27;pipeline-1&#x27;,\n",
              "                                 Pipeline(steps=[(&#x27;simpleimputer&#x27;,\n",
              "                                                  SimpleImputer()),\n",
              "                                                 (&#x27;standardscaler&#x27;,\n",
              "                                                  StandardScaler())]),\n",
              "                                 &lt;sklearn.compose._column_transformer.make_column_selector object at 0x7f0eadae1810&gt;),\n",
              "                                (&#x27;pipeline-2&#x27;,\n",
              "                                 Pipeline(steps=[(&#x27;simpleimputer&#x27;,\n",
              "                                                  SimpleImputer(strategy=&#x27;most_frequent&#x27;)),\n",
              "                                                 (&#x27;onehotencoder&#x27;,\n",
              "                                                  OneHotEncoder(handle_unknown=&#x27;ignore&#x27;,\n",
              "                                                                sparse=False))]),\n",
              "                                 &lt;sklearn.compose._column_transformer.make_column_selector object at 0x7f0eadae1890&gt;)])</pre></div></div></div><div class=\"sk-parallel\"><div class=\"sk-parallel-item\"><div class=\"sk-item\"><div class=\"sk-label-container\"><div class=\"sk-label sk-toggleable\"><input class=\"sk-toggleable__control sk-hidden--visually\" id=\"829af7bf-d903-414f-90f4-74f84b3074fc\" type=\"checkbox\" ><label for=\"829af7bf-d903-414f-90f4-74f84b3074fc\" class=\"sk-toggleable__label sk-toggleable__label-arrow\">pipeline-1</label><div class=\"sk-toggleable__content\"><pre>&lt;sklearn.compose._column_transformer.make_column_selector object at 0x7f0eadae1810&gt;</pre></div></div></div><div class=\"sk-serial\"><div class=\"sk-item\"><div class=\"sk-serial\"><div class=\"sk-item\"><div class=\"sk-estimator sk-toggleable\"><input class=\"sk-toggleable__control sk-hidden--visually\" id=\"23f42b17-8dbf-473a-976d-327415d7b683\" type=\"checkbox\" ><label for=\"23f42b17-8dbf-473a-976d-327415d7b683\" class=\"sk-toggleable__label sk-toggleable__label-arrow\">SimpleImputer</label><div class=\"sk-toggleable__content\"><pre>SimpleImputer()</pre></div></div></div><div class=\"sk-item\"><div class=\"sk-estimator sk-toggleable\"><input class=\"sk-toggleable__control sk-hidden--visually\" id=\"8192a1f4-14b1-43b9-8be4-6fc0140ad9cb\" type=\"checkbox\" ><label for=\"8192a1f4-14b1-43b9-8be4-6fc0140ad9cb\" class=\"sk-toggleable__label sk-toggleable__label-arrow\">StandardScaler</label><div class=\"sk-toggleable__content\"><pre>StandardScaler()</pre></div></div></div></div></div></div></div></div><div class=\"sk-parallel-item\"><div class=\"sk-item\"><div class=\"sk-label-container\"><div class=\"sk-label sk-toggleable\"><input class=\"sk-toggleable__control sk-hidden--visually\" id=\"9d7bc626-ff54-4b87-a939-635d1d117fc2\" type=\"checkbox\" ><label for=\"9d7bc626-ff54-4b87-a939-635d1d117fc2\" class=\"sk-toggleable__label sk-toggleable__label-arrow\">pipeline-2</label><div class=\"sk-toggleable__content\"><pre>&lt;sklearn.compose._column_transformer.make_column_selector object at 0x7f0eadae1890&gt;</pre></div></div></div><div class=\"sk-serial\"><div class=\"sk-item\"><div class=\"sk-serial\"><div class=\"sk-item\"><div class=\"sk-estimator sk-toggleable\"><input class=\"sk-toggleable__control sk-hidden--visually\" id=\"a8f9bd3f-a82c-4261-88f0-93eabfc0c745\" type=\"checkbox\" ><label for=\"a8f9bd3f-a82c-4261-88f0-93eabfc0c745\" class=\"sk-toggleable__label sk-toggleable__label-arrow\">SimpleImputer</label><div class=\"sk-toggleable__content\"><pre>SimpleImputer(strategy=&#x27;most_frequent&#x27;)</pre></div></div></div><div class=\"sk-item\"><div class=\"sk-estimator sk-toggleable\"><input class=\"sk-toggleable__control sk-hidden--visually\" id=\"f9f4ea4d-902e-47a9-97ca-9b241e30e173\" type=\"checkbox\" ><label for=\"f9f4ea4d-902e-47a9-97ca-9b241e30e173\" class=\"sk-toggleable__label sk-toggleable__label-arrow\">OneHotEncoder</label><div class=\"sk-toggleable__content\"><pre>OneHotEncoder(handle_unknown=&#x27;ignore&#x27;, sparse=False)</pre></div></div></div></div></div></div></div></div></div></div></div></div>"
            ]
          },
          "metadata": {},
          "execution_count": 13
        }
      ]
    },
    {
      "cell_type": "code",
      "source": [
        "# Transform train and test set\n",
        "X_train_processed = preprocessor.transform(X_train)\n",
        "X_test_processed = preprocessor.transform(X_test)"
      ],
      "metadata": {
        "id": "Py_FPvAmK_y5"
      },
      "execution_count": 14,
      "outputs": []
    },
    {
      "cell_type": "code",
      "source": [
        "# check for missing vlaues and that data is scaled and one-hot encoded\n",
        "# use np.isnan since this transform into numpy and not pandas\n",
        "\n",
        "print(np.isnan(X_train_processed).sum().sum(), 'missing values in training data')\n",
        "print(np.isnan(X_test_processed).sum().sum(), 'missing values in testing data')\n",
        "print('\\n')\n",
        "print('All data in X_train_process are', X_train_processed.dtype)\n",
        "print('All data in X_test_process are', X_test_processed.dtype)\n",
        "print('\\n')\n",
        "print('Shape of data is', X_train_processed.shape)\n",
        "print('\\n')\n",
        "X_train_processed"
      ],
      "metadata": {
        "colab": {
          "base_uri": "https://localhost:8080/"
        },
        "id": "TJwXGJ9oLKy4",
        "outputId": "62388b19-2dd9-4783-80e8-2cf0b3d674fc"
      },
      "execution_count": 15,
      "outputs": [
        {
          "output_type": "stream",
          "name": "stdout",
          "text": [
            "0 missing values in training data\n",
            "0 missing values in testing data\n",
            "\n",
            "\n",
            "All data in X_train_process are float64\n",
            "All data in X_test_process are float64\n",
            "\n",
            "\n",
            "Shape of data is (750, 97)\n",
            "\n",
            "\n"
          ]
        },
        {
          "output_type": "execute_result",
          "data": {
            "text/plain": [
              "array([[-0.50820472,  0.28193545, -0.06527826, ...,  0.        ,\n",
              "         1.        ,  0.        ],\n",
              "       [-0.72064168,  0.25283631,  1.23912135, ...,  0.        ,\n",
              "         0.        ,  0.        ],\n",
              "       [-0.49340318,  0.48282262, -0.50007813, ...,  0.        ,\n",
              "         1.        ,  0.        ],\n",
              "       ...,\n",
              "       [ 0.27295848,  0.63816773, -0.93487801, ...,  0.        ,\n",
              "         0.        ,  0.        ],\n",
              "       [-0.89653885, -1.73729615, -0.93487801, ...,  0.        ,\n",
              "         0.        ,  0.        ],\n",
              "       [ 0.30727477,  1.1082109 , -0.93487801, ...,  0.        ,\n",
              "         0.        ,  0.        ]])"
            ]
          },
          "metadata": {},
          "execution_count": 15
        }
      ]
    },
    {
      "cell_type": "code",
      "source": [
        ""
      ],
      "metadata": {
        "id": "1K_N6dKeMvzB"
      },
      "execution_count": 15,
      "outputs": []
    }
  ]
}